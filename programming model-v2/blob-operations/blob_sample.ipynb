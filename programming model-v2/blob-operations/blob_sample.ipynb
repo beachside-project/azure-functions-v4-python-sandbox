{
 "cells": [
  {
   "cell_type": "markdown",
   "metadata": {},
   "source": [
    "# Blob samples\n",
    "\n",
    "docs: \n",
    "\n",
    "https://learn.microsoft.com/ja-jp/azure/storage/blobs/storage-blob-properties-metadata-python"
   ]
  },
  {
   "cell_type": "code",
   "execution_count": 14,
   "metadata": {},
   "outputs": [
    {
     "name": "stdout",
     "output_type": "stream",
     "text": [
      "Collecting python-dotenv (from -r requirements.txt (line 1))\n",
      "  Using cached python_dotenv-1.0.0-py3-none-any.whl (19 kB)\n",
      "Collecting azure-storage-blob (from -r requirements.txt (line 2))\n",
      "  Downloading azure_storage_blob-12.19.0-py3-none-any.whl.metadata (26 kB)\n",
      "Collecting azure-core<2.0.0,>=1.28.0 (from azure-storage-blob->-r requirements.txt (line 2))\n",
      "  Downloading azure_core-1.29.5-py3-none-any.whl.metadata (36 kB)\n",
      "Collecting cryptography>=2.1.4 (from azure-storage-blob->-r requirements.txt (line 2))\n",
      "  Downloading cryptography-41.0.5-cp37-abi3-win_amd64.whl.metadata (5.3 kB)\n",
      "Requirement already satisfied: typing-extensions>=4.3.0 in c:\\repos\\azure\\azure-functions-v4-python-sandbox\\programming model-v2\\blob-eventgrid\\.venv\\lib\\site-packages (from azure-storage-blob->-r requirements.txt (line 2)) (4.8.0)\n",
      "Collecting isodate>=0.6.1 (from azure-storage-blob->-r requirements.txt (line 2))\n",
      "  Downloading isodate-0.6.1-py2.py3-none-any.whl (41 kB)\n",
      "     ---------------------------------------- 0.0/41.7 kB ? eta -:--:--\n",
      "     ---------------------------------------- 41.7/41.7 kB 2.1 MB/s eta 0:00:00\n",
      "Collecting requests>=2.18.4 (from azure-core<2.0.0,>=1.28.0->azure-storage-blob->-r requirements.txt (line 2))\n",
      "  Downloading requests-2.31.0-py3-none-any.whl.metadata (4.6 kB)\n",
      "Requirement already satisfied: six>=1.11.0 in c:\\repos\\azure\\azure-functions-v4-python-sandbox\\programming model-v2\\blob-eventgrid\\.venv\\lib\\site-packages (from azure-core<2.0.0,>=1.28.0->azure-storage-blob->-r requirements.txt (line 2)) (1.16.0)\n",
      "Collecting cffi>=1.12 (from cryptography>=2.1.4->azure-storage-blob->-r requirements.txt (line 2))\n",
      "  Downloading cffi-1.16.0-cp39-cp39-win_amd64.whl.metadata (1.5 kB)\n",
      "Collecting pycparser (from cffi>=1.12->cryptography>=2.1.4->azure-storage-blob->-r requirements.txt (line 2))\n",
      "  Downloading pycparser-2.21-py2.py3-none-any.whl (118 kB)\n",
      "     ---------------------------------------- 0.0/118.7 kB ? eta -:--:--\n",
      "     -------------------------------------- 118.7/118.7 kB 6.8 MB/s eta 0:00:00\n",
      "Collecting charset-normalizer<4,>=2 (from requests>=2.18.4->azure-core<2.0.0,>=1.28.0->azure-storage-blob->-r requirements.txt (line 2))\n",
      "  Downloading charset_normalizer-3.3.2-cp39-cp39-win_amd64.whl.metadata (34 kB)\n",
      "Collecting idna<4,>=2.5 (from requests>=2.18.4->azure-core<2.0.0,>=1.28.0->azure-storage-blob->-r requirements.txt (line 2))\n",
      "  Downloading idna-3.4-py3-none-any.whl (61 kB)\n",
      "     ---------------------------------------- 0.0/61.5 kB ? eta -:--:--\n",
      "     ---------------------------------------- 61.5/61.5 kB ? eta 0:00:00\n",
      "Collecting urllib3<3,>=1.21.1 (from requests>=2.18.4->azure-core<2.0.0,>=1.28.0->azure-storage-blob->-r requirements.txt (line 2))\n",
      "  Downloading urllib3-2.0.7-py3-none-any.whl.metadata (6.6 kB)\n",
      "Collecting certifi>=2017.4.17 (from requests>=2.18.4->azure-core<2.0.0,>=1.28.0->azure-storage-blob->-r requirements.txt (line 2))\n",
      "  Downloading certifi-2023.7.22-py3-none-any.whl.metadata (2.2 kB)\n",
      "Downloading azure_storage_blob-12.19.0-py3-none-any.whl (394 kB)\n",
      "   ---------------------------------------- 0.0/394.2 kB ? eta -:--:--\n",
      "   ---------------------------------------- 394.2/394.2 kB 8.3 MB/s eta 0:00:00\n",
      "Downloading azure_core-1.29.5-py3-none-any.whl (192 kB)\n",
      "   ---------------------------------------- 0.0/192.4 kB ? eta -:--:--\n",
      "   ---------------------------------------- 192.4/192.4 kB 5.7 MB/s eta 0:00:00\n",
      "Downloading cryptography-41.0.5-cp37-abi3-win_amd64.whl (2.7 MB)\n",
      "   ---------------------------------------- 0.0/2.7 MB ? eta -:--:--\n",
      "   -------- ------------------------------- 0.6/2.7 MB 11.5 MB/s eta 0:00:01\n",
      "   ---------------- ----------------------- 1.1/2.7 MB 11.5 MB/s eta 0:00:01\n",
      "   ------------------------ --------------- 1.6/2.7 MB 12.9 MB/s eta 0:00:01\n",
      "   --------------------------- ------------ 1.8/2.7 MB 9.6 MB/s eta 0:00:01\n",
      "   --------------------------------- ------ 2.2/2.7 MB 10.1 MB/s eta 0:00:01\n",
      "   ---------------------------------------- 2.7/2.7 MB 10.0 MB/s eta 0:00:00\n",
      "Downloading cffi-1.16.0-cp39-cp39-win_amd64.whl (181 kB)\n",
      "   ---------------------------------------- 0.0/181.6 kB ? eta -:--:--\n",
      "   --------------------------------------- 181.6/181.6 kB 11.4 MB/s eta 0:00:00\n",
      "Downloading requests-2.31.0-py3-none-any.whl (62 kB)\n",
      "   ---------------------------------------- 0.0/62.6 kB ? eta -:--:--\n",
      "   ---------------------------------------- 62.6/62.6 kB ? eta 0:00:00\n",
      "Downloading certifi-2023.7.22-py3-none-any.whl (158 kB)\n",
      "   ---------------------------------------- 0.0/158.3 kB ? eta -:--:--\n",
      "   ---------------------------------------- 158.3/158.3 kB 4.6 MB/s eta 0:00:00\n",
      "Downloading charset_normalizer-3.3.2-cp39-cp39-win_amd64.whl (100 kB)\n",
      "   ---------------------------------------- 0.0/100.4 kB ? eta -:--:--\n",
      "   ---------------------------------------- 100.4/100.4 kB ? eta 0:00:00\n",
      "Downloading urllib3-2.0.7-py3-none-any.whl (124 kB)\n",
      "   ---------------------------------------- 0.0/124.2 kB ? eta -:--:--\n",
      "   ---------------------------------------- 124.2/124.2 kB 7.1 MB/s eta 0:00:00\n",
      "Installing collected packages: urllib3, python-dotenv, pycparser, isodate, idna, charset-normalizer, certifi, requests, cffi, cryptography, azure-core, azure-storage-blob\n",
      "Successfully installed azure-core-1.29.5 azure-storage-blob-12.19.0 certifi-2023.7.22 cffi-1.16.0 charset-normalizer-3.3.2 cryptography-41.0.5 idna-3.4 isodate-0.6.1 pycparser-2.21 python-dotenv-1.0.0 requests-2.31.0 urllib3-2.0.7\n",
      "Note: you may need to restart the kernel to use updated packages.\n"
     ]
    }
   ],
   "source": [
    "%pip install -r requirements.txt"
   ]
  },
  {
   "cell_type": "code",
   "execution_count": 15,
   "metadata": {},
   "outputs": [],
   "source": [
    "import os\n",
    "from dotenv import load_dotenv\n",
    "\n",
    "load_dotenv()\n",
    "\n",
    "BLOB_CONNECTION_STRING = os.getenv(\"BLOB_CONNECTION_STRING\")"
   ]
  },
  {
   "cell_type": "markdown",
   "metadata": {},
   "source": [
    "## Set metadata"
   ]
  },
  {
   "cell_type": "code",
   "execution_count": 23,
   "metadata": {},
   "outputs": [],
   "source": [
    "from azure.storage.blob import BlobClient\n",
    "\n",
    "CONAINER_NAME = \"test3\"\n",
    "BLOB_NAME = \"tsukihi.png\"\n",
    "\n",
    "def set_metadata():\n",
    "  blob_client = BlobClient.from_connection_string(conn_str=BLOB_CONNECTION_STRING, container_name=CONAINER_NAME, blob_name=BLOB_NAME)\n",
    "\n",
    "  metadata = blob_client.get_blob_properties().metadata\n",
    "  metadata_to_update = {\"key1\": \"value1-1\", \"key2\": \"value2\"}\n",
    "  # update: 既存のメタデータは保持されたまま更新したいメタデータが追加される。同じキーの値は上書きされる。\n",
    "  metadata.update(metadata_to_update)\n",
    "  # clear とかのメソッドもあり。\n",
    "\n",
    "  blob_client.set_blob_metadata(metadata=metadata)\n",
    "\n",
    "set_metadata()"
   ]
  },
  {
   "cell_type": "markdown",
   "metadata": {},
   "source": [
    "## Get metadata"
   ]
  },
  {
   "cell_type": "code",
   "execution_count": 24,
   "metadata": {},
   "outputs": [
    {
     "name": "stdout",
     "output_type": "stream",
     "text": [
      "{'userId': 'niha001', 'key1': 'value1-1', 'key2': 'value2'}\n",
      "value1-1\n"
     ]
    }
   ],
   "source": [
    "from azure.storage.blob import BlobClient\n",
    "\n",
    "CONAINER_NAME = \"test3\"\n",
    "BLOB_NAME = \"tsukihi.png\"\n",
    "\n",
    "def get_metada():\n",
    "  blob_client = BlobClient.from_connection_string(conn_str=BLOB_CONNECTION_STRING, container_name=CONAINER_NAME, blob_name=BLOB_NAME)\n",
    "  metadata = blob_client.get_blob_properties().metadata\n",
    "\n",
    "  print(metadata)\n",
    "  print(metadata[\"key1\"])\n",
    "\n",
    "get_metada()"
   ]
  }
 ],
 "metadata": {
  "kernelspec": {
   "display_name": ".venv",
   "language": "python",
   "name": "python3"
  },
  "language_info": {
   "codemirror_mode": {
    "name": "ipython",
    "version": 3
   },
   "file_extension": ".py",
   "mimetype": "text/x-python",
   "name": "python",
   "nbconvert_exporter": "python",
   "pygments_lexer": "ipython3",
   "version": "3.9.13"
  }
 },
 "nbformat": 4,
 "nbformat_minor": 2
}
