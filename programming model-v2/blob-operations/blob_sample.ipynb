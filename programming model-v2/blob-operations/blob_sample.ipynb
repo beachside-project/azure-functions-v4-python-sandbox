{
 "cells": [
  {
   "cell_type": "markdown",
   "metadata": {},
   "source": [
    "# Blob samples\n",
    "\n",
    "docs: \n",
    "\n",
    "https://learn.microsoft.com/ja-jp/azure/storage/blobs/storage-blob-properties-metadata-python"
   ]
  },
  {
   "cell_type": "code",
   "execution_count": 1,
   "metadata": {},
   "outputs": [
    {
     "name": "stdout",
     "output_type": "stream",
     "text": [
      "Collecting python-dotenv (from -r requirements.txt (line 1))\n",
      "  Downloading python_dotenv-1.0.0-py3-none-any.whl (19 kB)\n",
      "Collecting azure-storage-blob (from -r requirements.txt (line 2))\n",
      "  Obtaining dependency information for azure-storage-blob from https://files.pythonhosted.org/packages/f6/82/24b0d7cf67ea63af86f11092756b8fe2adc1d55323241dc4107f5f5748e2/azure_storage_blob-12.19.0-py3-none-any.whl.metadata\n",
      "  Downloading azure_storage_blob-12.19.0-py3-none-any.whl.metadata (26 kB)\n",
      "Collecting azure-core<2.0.0,>=1.28.0 (from azure-storage-blob->-r requirements.txt (line 2))\n",
      "  Obtaining dependency information for azure-core<2.0.0,>=1.28.0 from https://files.pythonhosted.org/packages/9c/f8/1cf23a75cb8c2755c539ac967f3a7f607887c4979d073808134803720f0f/azure_core-1.29.5-py3-none-any.whl.metadata\n",
      "  Downloading azure_core-1.29.5-py3-none-any.whl.metadata (36 kB)\n",
      "Collecting cryptography>=2.1.4 (from azure-storage-blob->-r requirements.txt (line 2))\n",
      "  Obtaining dependency information for cryptography>=2.1.4 from https://files.pythonhosted.org/packages/86/35/f03a42444866ef7f23134812a05012dcb509418214fb78ec848f28cd14b8/cryptography-41.0.5-cp37-abi3-win_amd64.whl.metadata\n",
      "  Downloading cryptography-41.0.5-cp37-abi3-win_amd64.whl.metadata (5.3 kB)\n",
      "Collecting typing-extensions>=4.3.0 (from azure-storage-blob->-r requirements.txt (line 2))\n",
      "  Obtaining dependency information for typing-extensions>=4.3.0 from https://files.pythonhosted.org/packages/24/21/7d397a4b7934ff4028987914ac1044d3b7d52712f30e2ac7a2ae5bc86dd0/typing_extensions-4.8.0-py3-none-any.whl.metadata\n",
      "  Downloading typing_extensions-4.8.0-py3-none-any.whl.metadata (3.0 kB)\n",
      "Collecting isodate>=0.6.1 (from azure-storage-blob->-r requirements.txt (line 2))\n",
      "  Downloading isodate-0.6.1-py2.py3-none-any.whl (41 kB)\n",
      "     ---------------------------------------- 0.0/41.7 kB ? eta -:--:--\n",
      "     ---------------------------------------- 41.7/41.7 kB 2.0 MB/s eta 0:00:00\n",
      "Collecting requests>=2.18.4 (from azure-core<2.0.0,>=1.28.0->azure-storage-blob->-r requirements.txt (line 2))\n",
      "  Obtaining dependency information for requests>=2.18.4 from https://files.pythonhosted.org/packages/70/8e/0e2d847013cb52cd35b38c009bb167a1a26b2ce6cd6965bf26b47bc0bf44/requests-2.31.0-py3-none-any.whl.metadata\n",
      "  Downloading requests-2.31.0-py3-none-any.whl.metadata (4.6 kB)\n",
      "Requirement already satisfied: six>=1.11.0 in c:\\users\\brave\\appdata\\local\\packages\\pythonsoftwarefoundation.python.3.11_qbz5n2kfra8p0\\localcache\\local-packages\\python311\\site-packages (from azure-core<2.0.0,>=1.28.0->azure-storage-blob->-r requirements.txt (line 2)) (1.16.0)\n",
      "Collecting cffi>=1.12 (from cryptography>=2.1.4->azure-storage-blob->-r requirements.txt (line 2))\n",
      "  Obtaining dependency information for cffi>=1.12 from https://files.pythonhosted.org/packages/5a/c7/694814b3757878b29da39bc2f0cf9d20295f4c1e0a0bde7971708d5f23f8/cffi-1.16.0-cp311-cp311-win_amd64.whl.metadata\n",
      "  Downloading cffi-1.16.0-cp311-cp311-win_amd64.whl.metadata (1.5 kB)\n",
      "Collecting pycparser (from cffi>=1.12->cryptography>=2.1.4->azure-storage-blob->-r requirements.txt (line 2))\n",
      "  Downloading pycparser-2.21-py2.py3-none-any.whl (118 kB)\n",
      "     ---------------------------------------- 0.0/118.7 kB ? eta -:--:--\n",
      "     -------------------------------------- 118.7/118.7 kB 7.2 MB/s eta 0:00:00\n",
      "Collecting charset-normalizer<4,>=2 (from requests>=2.18.4->azure-core<2.0.0,>=1.28.0->azure-storage-blob->-r requirements.txt (line 2))\n",
      "  Obtaining dependency information for charset-normalizer<4,>=2 from https://files.pythonhosted.org/packages/57/ec/80c8d48ac8b1741d5b963797b7c0c869335619e13d4744ca2f67fc11c6fc/charset_normalizer-3.3.2-cp311-cp311-win_amd64.whl.metadata\n",
      "  Downloading charset_normalizer-3.3.2-cp311-cp311-win_amd64.whl.metadata (34 kB)\n",
      "Collecting idna<4,>=2.5 (from requests>=2.18.4->azure-core<2.0.0,>=1.28.0->azure-storage-blob->-r requirements.txt (line 2))\n",
      "  Downloading idna-3.4-py3-none-any.whl (61 kB)\n",
      "     ---------------------------------------- 0.0/61.5 kB ? eta -:--:--\n",
      "     ---------------------------------------- 61.5/61.5 kB 3.2 MB/s eta 0:00:00\n",
      "Collecting urllib3<3,>=1.21.1 (from requests>=2.18.4->azure-core<2.0.0,>=1.28.0->azure-storage-blob->-r requirements.txt (line 2))\n",
      "  Obtaining dependency information for urllib3<3,>=1.21.1 from https://files.pythonhosted.org/packages/d2/b2/b157855192a68541a91ba7b2bbcb91f1b4faa51f8bae38d8005c034be524/urllib3-2.0.7-py3-none-any.whl.metadata\n",
      "  Downloading urllib3-2.0.7-py3-none-any.whl.metadata (6.6 kB)\n",
      "Collecting certifi>=2017.4.17 (from requests>=2.18.4->azure-core<2.0.0,>=1.28.0->azure-storage-blob->-r requirements.txt (line 2))\n",
      "  Obtaining dependency information for certifi>=2017.4.17 from https://files.pythonhosted.org/packages/4c/dd/2234eab22353ffc7d94e8d13177aaa050113286e93e7b40eae01fbf7c3d9/certifi-2023.7.22-py3-none-any.whl.metadata\n",
      "  Downloading certifi-2023.7.22-py3-none-any.whl.metadata (2.2 kB)\n",
      "Downloading azure_storage_blob-12.19.0-py3-none-any.whl (394 kB)\n",
      "   ---------------------------------------- 0.0/394.2 kB ? eta -:--:--\n",
      "   --------------------------------------- 394.2/394.2 kB 12.4 MB/s eta 0:00:00\n",
      "Downloading azure_core-1.29.5-py3-none-any.whl (192 kB)\n",
      "   ---------------------------------------- 0.0/192.4 kB ? eta -:--:--\n",
      "   --------------------------------------- 192.4/192.4 kB 11.4 MB/s eta 0:00:00\n",
      "Downloading cryptography-41.0.5-cp37-abi3-win_amd64.whl (2.7 MB)\n",
      "   ---------------------------------------- 0.0/2.7 MB ? eta -:--:--\n",
      "   ----------------- ---------------------- 1.1/2.7 MB 24.0 MB/s eta 0:00:01\n",
      "   ------------------------------- -------- 2.1/2.7 MB 22.3 MB/s eta 0:00:01\n",
      "   ---------------------------------------  2.7/2.7 MB 24.1 MB/s eta 0:00:01\n",
      "   ---------------------------------------- 2.7/2.7 MB 16.9 MB/s eta 0:00:00\n",
      "Downloading typing_extensions-4.8.0-py3-none-any.whl (31 kB)\n",
      "Downloading cffi-1.16.0-cp311-cp311-win_amd64.whl (181 kB)\n",
      "   ---------------------------------------- 0.0/181.5 kB ? eta -:--:--\n",
      "   --------------------------------------- 181.5/181.5 kB 10.7 MB/s eta 0:00:00\n",
      "Downloading requests-2.31.0-py3-none-any.whl (62 kB)\n",
      "   ---------------------------------------- 0.0/62.6 kB ? eta -:--:--\n",
      "   ---------------------------------------- 62.6/62.6 kB ? eta 0:00:00\n",
      "Downloading certifi-2023.7.22-py3-none-any.whl (158 kB)\n",
      "   ---------------------------------------- 0.0/158.3 kB ? eta -:--:--\n",
      "   ---------------------------------------- 158.3/158.3 kB ? eta 0:00:00\n",
      "Downloading charset_normalizer-3.3.2-cp311-cp311-win_amd64.whl (99 kB)\n",
      "   ---------------------------------------- 0.0/99.9 kB ? eta -:--:--\n",
      "   ---------------------------------------- 99.9/99.9 kB ? eta 0:00:00\n",
      "Downloading urllib3-2.0.7-py3-none-any.whl (124 kB)\n",
      "   ---------------------------------------- 0.0/124.2 kB ? eta -:--:--\n",
      "   ---------------------------------------- 124.2/124.2 kB 7.1 MB/s eta 0:00:00\n",
      "Installing collected packages: urllib3, typing-extensions, python-dotenv, pycparser, isodate, idna, charset-normalizer, certifi, requests, cffi, cryptography, azure-core, azure-storage-blob\n",
      "Successfully installed azure-core-1.29.5 azure-storage-blob-12.19.0 certifi-2023.7.22 cffi-1.16.0 charset-normalizer-3.3.2 cryptography-41.0.5 idna-3.4 isodate-0.6.1 pycparser-2.21 python-dotenv-1.0.0 requests-2.31.0 typing-extensions-4.8.0 urllib3-2.0.7\n",
      "Note: you may need to restart the kernel to use updated packages.\n"
     ]
    },
    {
     "name": "stderr",
     "output_type": "stream",
     "text": [
      "\n",
      "[notice] A new release of pip is available: 23.2.1 -> 23.3.1\n",
      "[notice] To update, run: C:\\Users\\brave\\AppData\\Local\\Microsoft\\WindowsApps\\PythonSoftwareFoundation.Python.3.11_qbz5n2kfra8p0\\python.exe -m pip install --upgrade pip\n"
     ]
    }
   ],
   "source": [
    "%pip install -r requirements.txt"
   ]
  },
  {
   "cell_type": "code",
   "execution_count": 6,
   "metadata": {},
   "outputs": [],
   "source": [
    "import os\n",
    "from dotenv import load_dotenv\n",
    "\n",
    "load_dotenv()\n",
    "\n",
    "BLOB_CONNECTION_STRING = os.getenv(\"BLOB_CONNECTION_STRING\")"
   ]
  },
  {
   "cell_type": "markdown",
   "metadata": {},
   "source": [
    "# Set metadata to new blob"
   ]
  },
  {
   "cell_type": "code",
   "execution_count": 9,
   "metadata": {},
   "outputs": [
    {
     "data": {
      "text/plain": [
       "{'etag': '\"0x8DBE0FDF347C3BB\"',\n",
       " 'last_modified': datetime.datetime(2023, 11, 9, 8, 29, 11, tzinfo=datetime.timezone.utc),\n",
       " 'content_md5': bytearray(b'~\\x85\\xc5\\xed\\xfb\\xfaU\\xa6\\xb2\\xd4\\xcc\\xe5X\\xa7\\xfc\\xef'),\n",
       " 'client_request_id': '0ee7db59-7eda-11ee-a656-50c2e86baeda',\n",
       " 'request_id': '5ec8ed54-e01e-0009-76e6-124e7d000000',\n",
       " 'version': '2023-11-03',\n",
       " 'version_id': '2023-11-09T08:29:11.5981515Z',\n",
       " 'date': datetime.datetime(2023, 11, 9, 8, 29, 10, tzinfo=datetime.timezone.utc),\n",
       " 'request_server_encrypted': True,\n",
       " 'encryption_key_sha256': None,\n",
       " 'encryption_scope': None}"
      ]
     },
     "execution_count": 9,
     "metadata": {},
     "output_type": "execute_result"
    }
   ],
   "source": [
    "from azure.storage.blob import BlobClient\n",
    "\n",
    "CONAINER_NAME = \"test3\"\n",
    "BLOB_NAME = \"test.txt\"\n",
    "\n",
    "data = b\"Sample data for blob\"\n",
    "\n",
    "blob_client = BlobClient.from_connection_string(conn_str=BLOB_CONNECTION_STRING, container_name=CONAINER_NAME, blob_name=BLOB_NAME)\n",
    "blob_client.upload_blob(data, metadata={\"key1\": \"value1\", \"key2\": \"value2\"}, overwrite=True)"
   ]
  },
  {
   "cell_type": "markdown",
   "metadata": {},
   "source": [
    "## Set metadata from current blob"
   ]
  },
  {
   "cell_type": "code",
   "execution_count": 7,
   "metadata": {},
   "outputs": [],
   "source": [
    "from azure.storage.blob import BlobClient\n",
    "\n",
    "CONAINER_NAME = \"test3\"\n",
    "BLOB_NAME = \"tsukihi.png\"\n",
    "\n",
    "def set_metadata():\n",
    "  blob_client = BlobClient.from_connection_string(conn_str=BLOB_CONNECTION_STRING, container_name=CONAINER_NAME, blob_name=BLOB_NAME)\n",
    "\n",
    "  metadata = blob_client.get_blob_properties().metadata\n",
    "  metadata_to_update = {\"key1\": \"value1-1\", \"key2\": \"value2\"}\n",
    "  # update: 既存のメタデータは保持されたまま更新したいメタデータが追加される。同じキーの値は上書きされる。\n",
    "  metadata.update(metadata_to_update)\n",
    "  # clear とかのメソッドもあり。\n",
    "\n",
    "  blob_client.set_blob_metadata(metadata=metadata)\n",
    "\n",
    "set_metadata()"
   ]
  },
  {
   "cell_type": "markdown",
   "metadata": {},
   "source": [
    "## Get metadata"
   ]
  },
  {
   "cell_type": "code",
   "execution_count": 10,
   "metadata": {},
   "outputs": [
    {
     "name": "stdout",
     "output_type": "stream",
     "text": [
      "{'userId': 'niha001', 'key1': 'value1-1', 'key2': 'value2'}\n",
      "value1-1\n"
     ]
    }
   ],
   "source": [
    "from azure.storage.blob import BlobClient\n",
    "\n",
    "CONAINER_NAME = \"test3\"\n",
    "BLOB_NAME = \"tsukihi.png\"\n",
    "\n",
    "def get_metada():\n",
    "  blob_client = BlobClient.from_connection_string(conn_str=BLOB_CONNECTION_STRING, container_name=CONAINER_NAME, blob_name=BLOB_NAME)\n",
    "  metadata = blob_client.get_blob_properties().metadata\n",
    "\n",
    "  print(metadata)\n",
    "  print(metadata[\"key1\"])\n",
    "\n",
    "get_metada()"
   ]
  }
 ],
 "metadata": {
  "kernelspec": {
   "display_name": ".venv",
   "language": "python",
   "name": "python3"
  },
  "language_info": {
   "codemirror_mode": {
    "name": "ipython",
    "version": 3
   },
   "file_extension": ".py",
   "mimetype": "text/x-python",
   "name": "python",
   "nbconvert_exporter": "python",
   "pygments_lexer": "ipython3",
   "version": "3.11.6"
  }
 },
 "nbformat": 4,
 "nbformat_minor": 2
}
