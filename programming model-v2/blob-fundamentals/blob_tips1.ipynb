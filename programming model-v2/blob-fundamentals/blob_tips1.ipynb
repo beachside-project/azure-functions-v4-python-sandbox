{
 "cells": [
  {
   "cell_type": "markdown",
   "metadata": {},
   "source": [
    "# Blob Tips\n",
    "\n",
    "- Blob の接続文字列から Account Key などを取得\n",
    "- Blob URL から Blob name の取得"
   ]
  },
  {
   "cell_type": "code",
   "execution_count": null,
   "metadata": {},
   "outputs": [],
   "source": [
    "%pip install python-dotenv"
   ]
  },
  {
   "cell_type": "markdown",
   "metadata": {},
   "source": [
    "## Blob の接続文字列から Account Key などを取得"
   ]
  },
  {
   "cell_type": "code",
   "execution_count": 2,
   "metadata": {},
   "outputs": [
    {
     "name": "stdout",
     "output_type": "stream",
     "text": [
      "connection_str='DefaultEndpointsProtocol=https;AccountName=styokosandbox;AccountKey=J5BjsRyuAE0LH/O5ZynxsNaDFv0YFnsf6ONpm0eict9DsxPm0KbDvCBhJE2eQp47YZ2UOtPcGlH8GslHY9kZMQ==;EndpointSuffix=core.windows.net'\n",
      "account_name='styokosandbox'\n",
      "account_key='J5BjsRyuAE0LH/O5ZynxsNaDFv0YFnsf6ONpm0eict9DsxPm0KbDvCBhJE2eQp47YZ2UOtPcGlH8GslHY9kZMQ=='\n",
      "endpoint_suffix='core.windows.net'\n"
     ]
    }
   ],
   "source": [
    "import os\n",
    "from dotenv import load_dotenv\n",
    "\n",
    "load_dotenv()\n",
    "\n",
    "connection_str = os.getenv('BLOB_CONNECTION_STRING')\n",
    "print(f\"{connection_str=}\")\n",
    "\n",
    "account_name = connection_str.split(';')[1].split('AccountName=')[1]\n",
    "print(f\"{account_name=}\")\n",
    "\n",
    "account_key = connection_str.split(';')[2].split('AccountKey=')[1]\n",
    "print(f\"{account_key=}\")\n",
    "\n",
    "endpoint_suffix = connection_str.split(';')[3].split('EndpointSuffix=')[1]\n",
    "print(f\"{endpoint_suffix=}\")"
   ]
  },
  {
   "cell_type": "code",
   "execution_count": 5,
   "metadata": {},
   "outputs": [
    {
     "data": {
      "text/plain": [
       "'https://styokosandbox.blob.core.windows.net'"
      ]
     },
     "execution_count": 5,
     "metadata": {},
     "output_type": "execute_result"
    }
   ],
   "source": [
    "def get_blob_account_url_from_connection_string(conn: str) -> str:\n",
    "    splitted_conn = conn.split(';')\n",
    "    account_name = splitted_conn[1].split('AccountName=')[1]\n",
    "    endpoint_suffix = splitted_conn[3].split('EndpointSuffix=')[1]\n",
    "    return f\"https://{account_name}.blob.{endpoint_suffix}\"\n",
    "\n",
    "connection_str = os.getenv('BLOB_CONNECTION_STRING')\n",
    "get_blob_account_url_from_connection_string(connection_str)"
   ]
  },
  {
   "cell_type": "markdown",
   "metadata": {},
   "source": [
    "## Blob URL から Blob name の取得\n",
    "\n",
    "blob name に仮想ディレクトリなしの場合はシンプルに取得できるが、\"/\" が含まれる場合は面倒。"
   ]
  },
  {
   "cell_type": "code",
   "execution_count": 9,
   "metadata": {},
   "outputs": [
    {
     "name": "stdout",
     "output_type": "stream",
     "text": [
      "simple_process_name='sample.txt'\n",
      "correct_name='test1/nest/sample.txt'\n"
     ]
    }
   ],
   "source": [
    "# ユースケースとして EventGrid Trigger で BLOB の URL のみがわかる状態で、blob name を抽出したい場合\n",
    "BLOB_NAME = \"sample.txt\" # この値を取得したい\n",
    "BLOB_CONTAINER_NAME: str = \"articles\"\n",
    "BLOB_URL = f\"https://styokosandbox.blob.core.windows.net/{BLOB_CONTAINER_NAME}/{BLOB_NAME}\"\n",
    "\n",
    "\n",
    "def get_simple_blob_name(blob_url: str) -> str:\n",
    "    \"\"\"\n",
    "    blob name に絶対に '/' が含まれない場合のみ有効\n",
    "    \"\"\"\n",
    "    return blob_url.split('/')[-1]\n",
    "\n",
    "\n",
    "def get_blob_name_from_blob_url(blob_url: str, container_name: str) -> str:\n",
    "    \"\"\"\n",
    "    blob name '/' が含まれる場合など全てのケースで有効\n",
    "    \"\"\"\n",
    "    conn = os.getenv('BLOB_CONNECTION_STRING')\n",
    "    account_url = get_blob_account_url_from_connection_string(conn)\n",
    "    prefix = f\"{account_url}/{BLOB_CONTAINER_NAME}/\"\n",
    "    return blob_url.split(prefix)[1]\n",
    "\n",
    "simple_process_name = get_simple_blob_name(BLOB_URL)\n",
    "print(f\"{simple_process_name=}\")\n",
    "correct_name = get_blob_name_from_blob_url(BLOB_URL, BLOB_CONTAINER_NAME)\n",
    "print(f\"{correct_name=}\")\n"
   ]
  }
 ],
 "metadata": {
  "kernelspec": {
   "display_name": "Python 3",
   "language": "python",
   "name": "python3"
  },
  "language_info": {
   "codemirror_mode": {
    "name": "ipython",
    "version": 3
   },
   "file_extension": ".py",
   "mimetype": "text/x-python",
   "name": "python",
   "nbconvert_exporter": "python",
   "pygments_lexer": "ipython3",
   "version": "3.11.9"
  }
 },
 "nbformat": 4,
 "nbformat_minor": 2
}
