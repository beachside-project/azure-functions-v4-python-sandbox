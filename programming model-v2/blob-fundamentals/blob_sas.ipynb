{
 "cells": [
  {
   "cell_type": "markdown",
   "metadata": {},
   "source": [
    "# SAS 関連"
   ]
  },
  {
   "cell_type": "markdown",
   "metadata": {},
   "source": [
    "## datetime について\n",
    "\n",
    "import 増やしてコード量減らすか、逆かどっちがいいかね...と悩む。"
   ]
  },
  {
   "cell_type": "code",
   "execution_count": null,
   "metadata": {},
   "outputs": [],
   "source": [
    "%pip install -r requirements.txt"
   ]
  },
  {
   "cell_type": "code",
   "execution_count": 12,
   "metadata": {},
   "outputs": [
    {
     "data": {
      "text/plain": [
       "True"
      ]
     },
     "execution_count": 12,
     "metadata": {},
     "output_type": "execute_result"
    }
   ],
   "source": [
    "from dotenv import load_dotenv\n",
    "load_dotenv()"
   ]
  },
  {
   "cell_type": "code",
   "execution_count": 6,
   "metadata": {},
   "outputs": [
    {
     "name": "stdout",
     "output_type": "stream",
     "text": [
      "2023-11-10 02:13:19.644204+00:00\n",
      "2023-11-11 02:13:19.644204+00:00\n"
     ]
    }
   ],
   "source": [
    "# import 少ない ver\n",
    "import datetime\n",
    "\n",
    "start_time = datetime.datetime.now(datetime.timezone.utc) - datetime.timedelta(minutes=15)\n",
    "expiry_time = start_time + datetime.timedelta(days=1)\n",
    "\n",
    "print(start_time)\n",
    "print(expiry_time)"
   ]
  },
  {
   "cell_type": "code",
   "execution_count": 5,
   "metadata": {},
   "outputs": [
    {
     "name": "stdout",
     "output_type": "stream",
     "text": [
      "2023-11-10 02:11:18.557440+00:00\n",
      "2023-11-11 02:11:18.557440+00:00\n"
     ]
    }
   ],
   "source": [
    "# import 多い ver\n",
    "from datetime import datetime, timedelta, timezone\n",
    "\n",
    "start_time = datetime.now(timezone.utc) - timedelta(minutes=15)\n",
    "expiry_time = start_time + timedelta(days=1)\n",
    "\n",
    "print(start_time)\n",
    "print(expiry_time)\n"
   ]
  },
  {
   "cell_type": "markdown",
   "metadata": {},
   "source": [
    "## Blob の SAS URL 取得\n",
    "\n",
    "AccountKey が単独で必要になるのは注意。"
   ]
  },
  {
   "cell_type": "code",
   "execution_count": 15,
   "metadata": {},
   "outputs": [
    {
     "name": "stdout",
     "output_type": "stream",
     "text": [
      "2023-11-10 02:13:19.644204+00:00\n",
      "2023-11-11 02:13:19.644204+00:00\n",
      "https://styokosandbox.blob.core.windows.net/test1/test.txt?st=2023-11-10T02%3A36%3A19Z&se=2023-11-11T02%3A36%3A19Z&sp=r&sv=2023-11-03&sr=b&sig=SsHgwRpe/%2B49lAsKiPncvFAxs/HTMzuIgTAbmcYzB8w%3D\n"
     ]
    }
   ],
   "source": [
    "from datetime import datetime, timedelta, timezone\n",
    "import os\n",
    "from azure.storage.blob import BlobClient, BlobSasPermissions, generate_blob_sas\n",
    "\n",
    "\n",
    "print(start_time)\n",
    "print(expiry_time)\n",
    "\n",
    "\n",
    "def get_blob_url_with_sas(blob_client: BlobClient):\n",
    "    # https://learn.microsoft.com/ja-jp/azure/storage/blobs/sas-service-create-python#create-a-service-sas-for-a-blob\n",
    "    \n",
    "    connection_str = os.environ[\"BLOB_CONNECTION_STRING\"]\n",
    "    \n",
    "    # 必要な情報は以下。\n",
    "    account_key = connection_str.split(';')[2].split('AccountKey=')[1]\n",
    "    blob_account_name = blob_client.account_name\n",
    "    blob_container_name = blob_client.container_name\n",
    "    blob_name = blob_client.blob_name\n",
    "    \n",
    "    # 有効期限は15分前から1日間の場合\n",
    "    start_time = datetime.now(timezone.utc) - timedelta(minutes=15)\n",
    "    expiry_time = start_time + timedelta(days=1)\n",
    "\n",
    "    sas_token = generate_blob_sas(\n",
    "        account_name=blob_account_name,\n",
    "        container_name=blob_container_name,\n",
    "        blob_name=blob_name,\n",
    "        account_key=account_key,\n",
    "        permission=BlobSasPermissions(read=True),\n",
    "        expiry=expiry_time,\n",
    "        start=start_time\n",
    "    )\n",
    "\n",
    "    blob_url_with_sas = f\"{blob_client.url}?{sas_token}\"\n",
    "    print(f\"{blob_url_with_sas}\")\n",
    "\n",
    "\n",
    "blob_client = BlobClient.from_connection_string(os.environ[\"BLOB_CONNECTION_STRING\"], \"test1\", \"test.txt\")\n",
    "get_blob_url_with_sas(blob_client)"
   ]
  },
  {
   "cell_type": "code",
   "execution_count": null,
   "metadata": {},
   "outputs": [],
   "source": []
  }
 ],
 "metadata": {
  "kernelspec": {
   "display_name": "Python 3",
   "language": "python",
   "name": "python3"
  },
  "language_info": {
   "codemirror_mode": {
    "name": "ipython",
    "version": 3
   },
   "file_extension": ".py",
   "mimetype": "text/x-python",
   "name": "python",
   "nbconvert_exporter": "python",
   "pygments_lexer": "ipython3",
   "version": "3.11.8"
  }
 },
 "nbformat": 4,
 "nbformat_minor": 2
}
