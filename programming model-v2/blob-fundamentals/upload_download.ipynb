{
 "cells": [
  {
   "cell_type": "markdown",
   "metadata": {},
   "source": [
    "# Upload / Download\n",
    "\n",
    "## Upload\n",
    "\n",
    "https://learn.microsoft.com/ja-jp/azure/storage/blobs/storage-blob-upload-python"
   ]
  },
  {
   "cell_type": "markdown",
   "metadata": {},
   "source": [
    "local file to Blob"
   ]
  },
  {
   "cell_type": "code",
   "execution_count": null,
   "metadata": {},
   "outputs": [],
   "source": [
    "from azure.storage.blob import BlobClient\n",
    "\n",
    "def upload_local_file(local_file_path: str, container_name: str):\n",
    "    file_name = os.path.basename(local_file_path)\n",
    "    blob_client = BlobClient.from_connection_string(os.environ[\"StorageConnection\"], container_name, file_name)\n",
    "\n",
    "    with open(local_file_path, mode=\"rb\") as data:\n",
    "        # metadata も一緒に upload\n",
    "        blob_client.upload_blob(data, metadata={\"key1\": \"value1\", \"key2\": \"value2\"}, overwrite=True)"
   ]
  },
  {
   "cell_type": "markdown",
   "metadata": {},
   "source": [
    "## Download\n",
    "\n",
    "https://learn.microsoft.com/ja-jp/azure/storage/blobs/storage-blob-download-python"
   ]
  }
 ],
 "metadata": {
  "language_info": {
   "name": "python"
  }
 },
 "nbformat": 4,
 "nbformat_minor": 2
}
