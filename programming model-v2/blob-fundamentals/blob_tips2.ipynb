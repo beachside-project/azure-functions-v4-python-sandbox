{
 "cells": [
  {
   "cell_type": "markdown",
   "metadata": {},
   "source": [
    "# Blob tips2: 単純な Python の Tips\n",
    "\n",
    "- hash\n",
    "- uuid"
   ]
  },
  {
   "cell_type": "markdown",
   "metadata": {},
   "source": [
    "## Hash\n",
    "\n",
    "blob の path から一意の ID を生成する時とかに使ってる。"
   ]
  },
  {
   "cell_type": "code",
   "execution_count": 3,
   "metadata": {},
   "outputs": [
    {
     "name": "stdout",
     "output_type": "stream",
     "text": [
      "2f70faad7572f6f3bf54cc1d09a92d81\n",
      "24202f135a746186226619908c98a092ea2b1b8cd93ded885a691d9c83716b3c\n",
      "2f70faad7572f6f3bf54cc1d09a92d81_001\n"
     ]
    }
   ],
   "source": [
    "# 標準ライブラリに入ってる\n",
    "import hashlib\n",
    "\n",
    "file_path = \"aaaa/bbbb/ccc.py\"\n",
    "\n",
    "id_md5 = hashlib.md5(file_path.encode()).hexdigest()\n",
    "print(id_md5)\n",
    "\n",
    "id_sha256 = hashlib.sha256(file_path.encode()).hexdigest()\n",
    "print(id_sha256)\n",
    "\n",
    "# 実際はページ番号を 0 padding したものを追加したり。\n",
    "page = 1\n",
    "print(f\"{id_md5}_{page:03d}\")"
   ]
  },
  {
   "cell_type": "markdown",
   "metadata": {},
   "source": [
    "## UUID\n",
    "\n",
    "uuid4 (Make a random UUID) 使うのが標準的。\n",
    "\n",
    "ちなみに他のは以下の通り。\n",
    "\n",
    "- uuid1 (Make a UUID based on the host ID and current time)\n",
    "- uuid3 (Make a UUID using an MD5 hash of a namespace UUID and a name)\n",
    "- uuid5 (Make a UUID using an SHA-1 hash of a namespace UUID and a name)\n",
    "\n",
    "参考: https://docs.python.org/3/library/uuid.html"
   ]
  },
  {
   "cell_type": "code",
   "execution_count": 4,
   "metadata": {},
   "outputs": [
    {
     "name": "stdout",
     "output_type": "stream",
     "text": [
      "0bd2f75e-1358-42dc-bbb5-209bf0ee8275\n",
      "0bd2f75e135842dcbbb5209bf0ee8275\n"
     ]
    }
   ],
   "source": [
    "import uuid\n",
    "from uuid import UUID\n",
    "\n",
    "id_uuid: UUID = uuid.uuid4()\n",
    "print(str(id_uuid))\n",
    "print(id_uuid.hex)"
   ]
  },
  {
   "cell_type": "markdown",
   "metadata": {},
   "source": [
    "## ファイル名、拡張子の取得\n",
    "\n"
   ]
  },
  {
   "cell_type": "code",
   "execution_count": 8,
   "metadata": {},
   "outputs": [
    {
     "name": "stdout",
     "output_type": "stream",
     "text": [
      "ccc.txt\n",
      "test.md\n",
      "./bbbb/ccc\n",
      ".txt\n",
      "https://github.com/beachside-project/test\n",
      ".md\n"
     ]
    }
   ],
   "source": [
    "import os\n",
    "\n",
    "def print_filename(file_path: str):\n",
    "    # どちらでも一緒\n",
    "    # filename = file_path.split(\"/\")[-1]\n",
    "    filename = os.path.basename(file_path)\n",
    "    print(filename)\n",
    "\n",
    "def print_fileextension(file_path: str):\n",
    "    # どちらでも一緒\n",
    "    # file_extension = file_path.split(\"/\")[-1].split(\".\")[-1]\n",
    "    file_extension = os.path.basename(file_path).split(\".\")[-1]\n",
    "\n",
    "    # filename, file_extension = os.path.splitext(file_path)\n",
    "    # filename は \"./bbbb/ccc\" や \"https://github.com/beachside-project/test\" になる\n",
    "    \n",
    "    print(file_extension)\n",
    "\n",
    "\n",
    "local_path = \"./bbbb/ccc.txt\" \n",
    "url_path =\"https://github.com/beachside-project/test.md\"\n",
    "\n",
    "print_filename(local_path)\n",
    "print_filename(url_path)\n",
    "\n",
    "print_fileextension(local_path)\n",
    "print_fileextension(url_path)"
   ]
  }
 ],
 "metadata": {
  "kernelspec": {
   "display_name": "Python 3",
   "language": "python",
   "name": "python3"
  },
  "language_info": {
   "codemirror_mode": {
    "name": "ipython",
    "version": 3
   },
   "file_extension": ".py",
   "mimetype": "text/x-python",
   "name": "python",
   "nbconvert_exporter": "python",
   "pygments_lexer": "ipython3",
   "version": "3.11.9"
  }
 },
 "nbformat": 4,
 "nbformat_minor": 2
}
