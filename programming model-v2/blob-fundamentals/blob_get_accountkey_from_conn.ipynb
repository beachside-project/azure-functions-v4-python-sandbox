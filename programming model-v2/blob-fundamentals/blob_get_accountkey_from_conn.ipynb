{
 "cells": [
  {
   "cell_type": "markdown",
   "metadata": {},
   "source": [
    "# Blob の接続文字列から Account Key を取得する"
   ]
  },
  {
   "cell_type": "code",
   "execution_count": 4,
   "metadata": {},
   "outputs": [
    {
     "name": "stdout",
     "output_type": "stream",
     "text": [
      "Collecting python-dotenv\n",
      "  Downloading python_dotenv-1.0.0-py3-none-any.whl (19 kB)\n",
      "Installing collected packages: python-dotenv\n",
      "Successfully installed python-dotenv-1.0.0\n",
      "Note: you may need to restart the kernel to use updated packages.\n"
     ]
    },
    {
     "name": "stderr",
     "output_type": "stream",
     "text": [
      "\n",
      "[notice] A new release of pip is available: 23.2.1 -> 23.3.1\n",
      "[notice] To update, run: C:\\Users\\brave\\AppData\\Local\\Microsoft\\WindowsApps\\PythonSoftwareFoundation.Python.3.11_qbz5n2kfra8p0\\python.exe -m pip install --upgrade pip\n"
     ]
    }
   ],
   "source": [
    "%pip install python-dotenv"
   ]
  },
  {
   "cell_type": "code",
   "execution_count": 14,
   "metadata": {},
   "outputs": [
    {
     "name": "stdout",
     "output_type": "stream",
     "text": [
      "connection_str='DefaultEndpointsProtocol=https;AccountName=styokosandbox;AccountKey=J5BjsRyuAE0LH/O5ZynxsNaDFv0YFnsf6ONpm0eict9DsxPm0KbDvCBhJE2eQp47YZ2UOtPcGlH8GslHY9kZMQ==;EndpointSuffix=core.windows.net'\n",
      "account_name='styokosandbox'\n",
      "account_key='J5BjsRyuAE0LH/O5ZynxsNaDFv0YFnsf6ONpm0eict9DsxPm0KbDvCBhJE2eQp47YZ2UOtPcGlH8GslHY9kZMQ=='\n"
     ]
    }
   ],
   "source": [
    "import os\n",
    "from dotenv import load_dotenv\n",
    "\n",
    "load_dotenv()\n",
    "\n",
    "\n",
    "\n",
    "connection_str = os.getenv('BLOB_CONNECTION_STRING')\n",
    "print(f\"{connection_str=}\")\n",
    "\n",
    "account_name = connection_str.split(';')[1].split('AccountName=')[1]\n",
    "print(f\"{account_name=}\")\n",
    "account_key = connection_str.split(';')[2].split('AccountKey=')[1]\n",
    "print(f\"{account_key=}\")"
   ]
  }
 ],
 "metadata": {
  "kernelspec": {
   "display_name": "Python 3",
   "language": "python",
   "name": "python3"
  },
  "language_info": {
   "codemirror_mode": {
    "name": "ipython",
    "version": 3
   },
   "file_extension": ".py",
   "mimetype": "text/x-python",
   "name": "python",
   "nbconvert_exporter": "python",
   "pygments_lexer": "ipython3",
   "version": "3.11.6"
  }
 },
 "nbformat": 4,
 "nbformat_minor": 2
}
