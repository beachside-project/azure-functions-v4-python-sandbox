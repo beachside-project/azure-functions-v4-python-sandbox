{
 "cells": [
  {
   "cell_type": "markdown",
   "metadata": {},
   "source": [
    "# Blob samples\n",
    "\n",
    "docs: \n",
    "\n",
    "https://learn.microsoft.com/ja-jp/azure/storage/blobs/storage-blob-properties-metadata-python"
   ]
  },
  {
   "cell_type": "code",
   "execution_count": null,
   "metadata": {},
   "outputs": [],
   "source": [
    "%pip install -r requirements.txt"
   ]
  },
  {
   "cell_type": "code",
   "execution_count": 6,
   "metadata": {},
   "outputs": [],
   "source": [
    "import os\n",
    "from dotenv import load_dotenv\n",
    "\n",
    "load_dotenv()\n",
    "\n",
    "BLOB_CONNECTION_STRING = os.getenv(\"BLOB_CONNECTION_STRING\")"
   ]
  },
  {
   "cell_type": "markdown",
   "metadata": {},
   "source": [
    "# Set metadata to new blob"
   ]
  },
  {
   "cell_type": "code",
   "execution_count": 9,
   "metadata": {},
   "outputs": [
    {
     "data": {
      "text/plain": [
       "{'etag': '\"0x8DBE0FDF347C3BB\"',\n",
       " 'last_modified': datetime.datetime(2023, 11, 9, 8, 29, 11, tzinfo=datetime.timezone.utc),\n",
       " 'content_md5': bytearray(b'~\\x85\\xc5\\xed\\xfb\\xfaU\\xa6\\xb2\\xd4\\xcc\\xe5X\\xa7\\xfc\\xef'),\n",
       " 'client_request_id': '0ee7db59-7eda-11ee-a656-50c2e86baeda',\n",
       " 'request_id': '5ec8ed54-e01e-0009-76e6-124e7d000000',\n",
       " 'version': '2023-11-03',\n",
       " 'version_id': '2023-11-09T08:29:11.5981515Z',\n",
       " 'date': datetime.datetime(2023, 11, 9, 8, 29, 10, tzinfo=datetime.timezone.utc),\n",
       " 'request_server_encrypted': True,\n",
       " 'encryption_key_sha256': None,\n",
       " 'encryption_scope': None}"
      ]
     },
     "execution_count": 9,
     "metadata": {},
     "output_type": "execute_result"
    }
   ],
   "source": [
    "from azure.storage.blob import BlobClient\n",
    "\n",
    "CONAINER_NAME = \"test3\"\n",
    "BLOB_NAME = \"test.txt\"\n",
    "\n",
    "data = b\"Sample data for blob\"\n",
    "\n",
    "blob_client = BlobClient.from_connection_string(conn_str=BLOB_CONNECTION_STRING, container_name=CONAINER_NAME, blob_name=BLOB_NAME)\n",
    "blob_client.upload_blob(data, metadata={\"key1\": \"value1\", \"key2\": \"value2\"}, overwrite=True)"
   ]
  },
  {
   "cell_type": "markdown",
   "metadata": {},
   "source": [
    "## Set metadata from current blob"
   ]
  },
  {
   "cell_type": "code",
   "execution_count": 7,
   "metadata": {},
   "outputs": [],
   "source": [
    "from azure.storage.blob import BlobClient\n",
    "\n",
    "CONAINER_NAME = \"test3\"\n",
    "BLOB_NAME = \"tsukihi.png\"\n",
    "\n",
    "def set_metadata():\n",
    "  blob_client = BlobClient.from_connection_string(conn_str=BLOB_CONNECTION_STRING, container_name=CONAINER_NAME, blob_name=BLOB_NAME)\n",
    "\n",
    "  metadata = blob_client.get_blob_properties().metadata\n",
    "  metadata_to_update = {\"key1\": \"value1-1\", \"key2\": \"value2\"}\n",
    "  # update: 既存のメタデータは保持されたまま更新したいメタデータが追加される。同じキーの値は上書きされる。\n",
    "  metadata.update(metadata_to_update)\n",
    "  # clear とかのメソッドもあり。\n",
    "\n",
    "  blob_client.set_blob_metadata(metadata=metadata)\n",
    "\n",
    "set_metadata()"
   ]
  },
  {
   "cell_type": "markdown",
   "metadata": {},
   "source": [
    "## Get metadata"
   ]
  },
  {
   "cell_type": "code",
   "execution_count": 10,
   "metadata": {},
   "outputs": [
    {
     "name": "stdout",
     "output_type": "stream",
     "text": [
      "{'userId': 'niha001', 'key1': 'value1-1', 'key2': 'value2'}\n",
      "value1-1\n"
     ]
    }
   ],
   "source": [
    "from azure.storage.blob import BlobClient\n",
    "\n",
    "CONAINER_NAME = \"test3\"\n",
    "BLOB_NAME = \"tsukihi.png\"\n",
    "\n",
    "def get_metada():\n",
    "  blob_client = BlobClient.from_connection_string(conn_str=BLOB_CONNECTION_STRING, container_name=CONAINER_NAME, blob_name=BLOB_NAME)\n",
    "  metadata = blob_client.get_blob_properties().metadata\n",
    "\n",
    "  print(metadata)\n",
    "  print(metadata[\"key1\"])\n",
    "\n",
    "get_metada()"
   ]
  }
 ],
 "metadata": {
  "kernelspec": {
   "display_name": ".venv",
   "language": "python",
   "name": "python3"
  },
  "language_info": {
   "codemirror_mode": {
    "name": "ipython",
    "version": 3
   },
   "file_extension": ".py",
   "mimetype": "text/x-python",
   "name": "python",
   "nbconvert_exporter": "python",
   "pygments_lexer": "ipython3",
   "version": "3.11.6"
  }
 },
 "nbformat": 4,
 "nbformat_minor": 2
}
